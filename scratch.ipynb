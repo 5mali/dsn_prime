{
 "cells": [
  {
   "cell_type": "code",
   "execution_count": 1,
   "metadata": {},
   "outputs": [
    {
     "name": "stdout",
     "output_type": "stream",
     "text": [
      "[1 2]\n"
     ]
    }
   ],
   "source": [
    "import numpy as np\n",
    "print (np.arange(1,3))"
   ]
  },
  {
   "cell_type": "code",
   "execution_count": 35,
   "metadata": {},
   "outputs": [],
   "source": [
    "morning = np.arange(0,6)\n",
    "night = np.arange(18,24)"
   ]
  },
  {
   "cell_type": "code",
   "execution_count": 41,
   "metadata": {},
   "outputs": [
    {
     "name": "stdout",
     "output_type": "stream",
     "text": [
      "[ 0  1  2  3  4  5 18 19 20 21 22 23]\n"
     ]
    }
   ],
   "source": [
    "index = np.concatenate((morning,night),axis=0)\n",
    "print(index)"
   ]
  },
  {
   "cell_type": "code",
   "execution_count": 43,
   "metadata": {},
   "outputs": [
    {
     "name": "stdout",
     "output_type": "stream",
     "text": [
      "[ 0.73384983 -0.30388092 -1.31282528 -0.46971375  0.68051533 -2.11823557\n",
      "  0.3735134  -1.7729238  -0.058941    0.28267503  1.19886048 -0.85035064\n",
      "  0.7437798   0.504626   -1.83081645  0.91448284 -2.34313918 -0.39155401\n",
      " -0.61510303  0.45877559 -1.07691698  0.16509869 -0.96996109  1.04962674]\n"
     ]
    }
   ],
   "source": [
    "data = np.random.normal(size=24)\n",
    "print(data)"
   ]
  },
  {
   "cell_type": "code",
   "execution_count": 44,
   "metadata": {},
   "outputs": [
    {
     "data": {
      "text/plain": [
       "array([ 0.73384983, -0.30388092, -1.31282528, -0.46971375,  0.68051533,\n",
       "       -2.11823557, -0.61510303,  0.45877559, -1.07691698,  0.16509869,\n",
       "       -0.96996109,  1.04962674])"
      ]
     },
     "execution_count": 44,
     "metadata": {},
     "output_type": "execute_result"
    }
   ],
   "source": [
    "data[index]"
   ]
  }
 ],
 "metadata": {
  "kernelspec": {
   "display_name": "Python 3",
   "language": "python",
   "name": "python3"
  },
  "language_info": {
   "codemirror_mode": {
    "name": "ipython",
    "version": 3
   },
   "file_extension": ".py",
   "mimetype": "text/x-python",
   "name": "python",
   "nbconvert_exporter": "python",
   "pygments_lexer": "ipython3",
   "version": "3.6.3"
  }
 },
 "nbformat": 4,
 "nbformat_minor": 2
}
