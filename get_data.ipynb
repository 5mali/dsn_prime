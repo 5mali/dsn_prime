{
 "cells": [
  {
   "cell_type": "code",
   "execution_count": 1,
   "metadata": {},
   "outputs": [],
   "source": [
    "%matplotlib inline\n",
    "import os\n",
    "from os.path import dirname, abspath, join\n",
    "from os import getcwd\n",
    "import sys"
   ]
  },
  {
   "cell_type": "code",
   "execution_count": 2,
   "metadata": {},
   "outputs": [],
   "source": [
    "import random\n",
    "import string\n",
    "import pandas as pd\n",
    "import numpy as np\n",
    "import matplotlib.pyplot as plt\n",
    "import matplotlib.ticker as ticker\n",
    "import torch\n",
    "from IPython.display import clear_output"
   ]
  },
  {
   "cell_type": "code",
   "execution_count": 3,
   "metadata": {},
   "outputs": [],
   "source": [
    "seed = 161\n",
    "random.seed(seed)\n",
    "torch.manual_seed(seed)\n",
    "np.random.seed(seed)\n",
    "os.environ['PYTHONHASHSEED'] = str(seed)"
   ]
  },
  {
   "cell_type": "code",
   "execution_count": 43,
   "metadata": {},
   "outputs": [],
   "source": [
    "#solar_data/CSV files contain the values of GSR (Global Solar Radiation in MegaJoules per meters squared per hour)\n",
    "#weather_data/CSV files contain the values of GSR (Global Solar Radiation in MegaJoules per meters squared per hour)\n",
    "location = 'tokyo'\n",
    "year = 2000\n",
    "\n",
    "THIS_DIR = getcwd()\n",
    "SDATA_DIR = abspath(join(THIS_DIR, 'solar_data'))  #abspath(join(THIS_DIR, '../../..', 'data'))\n",
    "WDATA_DIR = abspath(join(THIS_DIR, 'weather_data'))  #abspath(join(THIS_DIR, '../../..', 'data'))\n",
    "\n",
    "total_fcast = []\n",
    "\n",
    "for location in ['tokyo']:\n",
    "    for year in np.arange(2000,2001): #2017 and 2018 for minamidaito are corrupted\n",
    "        sfile = SDATA_DIR + '/' + location +'/' + str(year) + '.csv'\n",
    "        wfile = WDATA_DIR + '/' + location +'/' + str(year) + '.csv'\n",
    "\n",
    "        #skiprows=4 to remove unnecessary title texts\n",
    "        #usecols=4 to read only the Global Solar Radiation (GSR) values\n",
    "        solar_radiation = pd.read_csv(sfile, skiprows=4, encoding='shift_jisx0213', usecols=[4])\n",
    "        fcast_am = pd.read_csv(wfile, skiprows=4, encoding='shift_jisx0213', usecols=[3])\n",
    "        fcast_pm = pd.read_csv(wfile, skiprows=4, encoding='shift_jisx0213', usecols=[6])\n",
    "\n",
    "        #convert dataframe to numpy array\n",
    "        solar_radiation = solar_radiation.values\n",
    "\n",
    "        #convert missing data in CSV files to zero\n",
    "        solar_radiation[np.isnan(solar_radiation)] = 0\n",
    "\n",
    "        #reshape solar_radiation into no_of_daysx24 array\n",
    "        solar_radiation = solar_radiation.reshape(-1,24)\n",
    "\n",
    "        #get forecast data, flatten the array and convert to list\n",
    "        fcast_am = fcast_am.values.flatten().tolist()\n",
    "        fcast_pm = fcast_pm.values.flatten().tolist()\n",
    "\n",
    "        fcast_am = [item.replace('\\u3000','') for item in fcast_am] #remove pesky UNICODE character\n",
    "        fcast_pm = [item.replace('\\u3000','') for item in fcast_am] #remove pesky UNICODE character\n",
    "\n",
    "        fcast_am = [item.split('、',1)[0] for item in fcast_am] #remove data after Japanese commas\n",
    "        fcast_pm = [item.split('、',1)[0] for item in fcast_am] #remove data after Japanese commas\n",
    "        \n",
    "#         fcast_am = [item.split(r'霧雨',-1)[0] for item in fcast_am] #霧雨 - group all ligth drizzles into one group\n",
    "#         fcast_pm = [item.split(r'霧雨',-1)[0] for item in fcast_pm] #霧雨 - group all ligth drizzles into one group\n",
    "\n",
    "        total_fcast = np.append(total_fcast,fcast_am)\n",
    "        total_fcast = np.append(total_fcast,fcast_pm)"
   ]
  },
  {
   "cell_type": "code",
   "execution_count": 44,
   "metadata": {},
   "outputs": [],
   "source": [
    "forecast, counts = np.unique(total_fcast, return_counts=True)\n",
    "# forecast = [item.replace('\\u3000','') for item in forecast] #remove pesky UNICODE character\n",
    "# forecast = [item.split('、',1)[0] for item in forecast] #remove data after Japanese commas"
   ]
  },
  {
   "cell_type": "code",
   "execution_count": 45,
   "metadata": {},
   "outputs": [
    {
     "name": "stdout",
     "output_type": "stream",
     "text": [
      "大雨\n",
      "大雨後晴\n",
      "大雨後曇一時晴\n",
      "快晴\n",
      "晴\n",
      "晴一時大雨\n",
      "晴一時曇\n",
      "晴一時薄曇\n",
      "晴一時雨\n",
      "晴後一時曇\n",
      "晴後一時薄曇\n",
      "晴後一時雨\n",
      "晴後曇\n",
      "晴後曇一時雨\n",
      "晴後曇時々雨\n",
      "晴後薄曇\n",
      "晴時々曇\n",
      "晴時々曇一時雨\n",
      "晴時々薄曇\n",
      "曇\n",
      "曇一時大雨\n",
      "曇一時晴\n",
      "曇一時雨\n",
      "曇一時雨後一時晴\n",
      "曇一時雨後晴\n",
      "曇一時雪\n",
      "曇一時雪後晴\n",
      "曇後一時晴\n",
      "曇後一時雨\n",
      "曇後晴\n",
      "曇後雨\n",
      "曇時々晴\n",
      "曇時々晴一時あられ\n",
      "曇時々晴一時雨\n",
      "曇時々雨\n",
      "曇時々雨後一時晴\n",
      "曇時々雨後晴\n",
      "薄曇\n",
      "薄曇一時晴\n",
      "薄曇後晴\n",
      "雨\n",
      "雨一時曇\n",
      "雨後一時曇\n",
      "雨後時々曇\n",
      "雨後晴\n",
      "雨後曇\n",
      "雨後曇一時晴\n",
      "雨時々曇\n",
      "雨時々曇後晴\n"
     ]
    }
   ],
   "source": [
    "z = [[x,y] for x,y in zip(forecast, counts)]\n",
    "for zx in forecast:\n",
    "    print(zx) "
   ]
  },
  {
   "cell_type": "code",
   "execution_count": null,
   "metadata": {},
   "outputs": [],
   "source": []
  },
  {
   "cell_type": "code",
   "execution_count": null,
   "metadata": {},
   "outputs": [],
   "source": []
  },
  {
   "cell_type": "code",
   "execution_count": null,
   "metadata": {},
   "outputs": [],
   "source": []
  },
  {
   "cell_type": "code",
   "execution_count": null,
   "metadata": {},
   "outputs": [],
   "source": []
  },
  {
   "cell_type": "code",
   "execution_count": null,
   "metadata": {},
   "outputs": [],
   "source": []
  },
  {
   "cell_type": "code",
   "execution_count": 7,
   "metadata": {},
   "outputs": [
    {
     "ename": "NameError",
     "evalue": "name 'unique' is not defined",
     "output_type": "error",
     "traceback": [
      "\u001b[0;31m---------------------------------------------------------------------------\u001b[0m",
      "\u001b[0;31mNameError\u001b[0m                                 Traceback (most recent call last)",
      "\u001b[0;32m<ipython-input-7-d24c047e2457>\u001b[0m in \u001b[0;36m<module>\u001b[0;34m\u001b[0m\n\u001b[0;32m----> 1\u001b[0;31m \u001b[0munique_ds\u001b[0m \u001b[0;34m=\u001b[0m \u001b[0munique\u001b[0m\u001b[0;34m[\u001b[0m\u001b[0mnp\u001b[0m\u001b[0;34m.\u001b[0m\u001b[0margsort\u001b[0m\u001b[0;34m(\u001b[0m\u001b[0;34m-\u001b[0m\u001b[0mcounts\u001b[0m\u001b[0;34m)\u001b[0m\u001b[0;34m]\u001b[0m\u001b[0;34m\u001b[0m\u001b[0m\n\u001b[0m\u001b[1;32m      2\u001b[0m \u001b[0msorted_array\u001b[0m \u001b[0;34m=\u001b[0m \u001b[0mnp\u001b[0m\u001b[0;34m.\u001b[0m\u001b[0msort\u001b[0m\u001b[0;34m(\u001b[0m\u001b[0mcounts\u001b[0m\u001b[0;34m)\u001b[0m\u001b[0;34m\u001b[0m\u001b[0m\n\u001b[1;32m      3\u001b[0m \u001b[0mcounts_ds\u001b[0m \u001b[0;34m=\u001b[0m \u001b[0msorted_array\u001b[0m\u001b[0;34m[\u001b[0m\u001b[0;34m:\u001b[0m\u001b[0;34m:\u001b[0m\u001b[0;34m-\u001b[0m\u001b[0;36m1\u001b[0m\u001b[0;34m]\u001b[0m\u001b[0;34m\u001b[0m\u001b[0m\n",
      "\u001b[0;31mNameError\u001b[0m: name 'unique' is not defined"
     ]
    }
   ],
   "source": [
    "unique_ds = unique[np.argsort(-counts)]\n",
    "sorted_array = np.sort(counts)\n",
    "counts_ds = sorted_array[::-1]"
   ]
  },
  {
   "cell_type": "code",
   "execution_count": null,
   "metadata": {},
   "outputs": [],
   "source": [
    "for x,y in zip(unique_ds, counts_ds):\n",
    "    print(x,y)"
   ]
  },
  {
   "cell_type": "code",
   "execution_count": null,
   "metadata": {},
   "outputs": [],
   "source": []
  }
 ],
 "metadata": {
  "kernelspec": {
   "display_name": "Python 3",
   "language": "python",
   "name": "python3"
  },
  "language_info": {
   "codemirror_mode": {
    "name": "ipython",
    "version": 3
   },
   "file_extension": ".py",
   "mimetype": "text/x-python",
   "name": "python",
   "nbconvert_exporter": "python",
   "pygments_lexer": "ipython3",
   "version": "3.6.6"
  }
 },
 "nbformat": 4,
 "nbformat_minor": 2
}
