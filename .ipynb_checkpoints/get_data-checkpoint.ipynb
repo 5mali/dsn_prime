{
 "cells": [
  {
   "cell_type": "code",
   "execution_count": 1,
   "metadata": {},
   "outputs": [],
   "source": [
    "%matplotlib inline\n",
    "import os\n",
    "from os.path import dirname, abspath, join\n",
    "from os import getcwd\n",
    "import sys"
   ]
  },
  {
   "cell_type": "code",
   "execution_count": 2,
   "metadata": {},
   "outputs": [],
   "source": [
    "import random\n",
    "import string\n",
    "import pandas as pd\n",
    "import numpy as np\n",
    "import matplotlib.pyplot as plt\n",
    "import matplotlib.ticker as ticker\n",
    "import torch\n",
    "from IPython.display import clear_output"
   ]
  },
  {
   "cell_type": "code",
   "execution_count": 3,
   "metadata": {},
   "outputs": [],
   "source": [
    "seed = 161\n",
    "random.seed(seed)\n",
    "torch.manual_seed(seed)\n",
    "np.random.seed(seed)\n",
    "os.environ['PYTHONHASHSEED'] = str(seed)"
   ]
  },
  {
   "cell_type": "code",
   "execution_count": 8,
   "metadata": {},
   "outputs": [],
   "source": [
    "#solar_data/CSV files contain the values of GSR (Global Solar Radiation in MegaJoules per meters squared per hour)\n",
    "#weather_data/CSV files contain the values of GSR (Global Solar Radiation in MegaJoules per meters squared per hour)\n",
    "location = 'tokyo'\n",
    "year = 2000\n",
    "\n",
    "THIS_DIR = getcwd()\n",
    "SDATA_DIR = abspath(join(THIS_DIR, 'solar_data'))  #abspath(join(THIS_DIR, '../../..', 'data'))\n",
    "WDATA_DIR = abspath(join(THIS_DIR, 'weather_data'))  #abspath(join(THIS_DIR, '../../..', 'data'))\n",
    "\n",
    "no_of_fcast_types = 10\n",
    "fcast_dict = {}\n",
    "fcast_rec = []\n",
    "day_radiation_rec = []\n",
    "\n",
    "for location in ['tokyo','wakkanai','minamidaito']:\n",
    "    for year in np.arange(2000,2010): #2017 and 2018 for minamidaito are corrupted\n",
    "        sfile = SDATA_DIR + '/' + location +'/' + str(year) + '.csv'\n",
    "        wfile = WDATA_DIR + '/' + location +'/' + str(year) + '.csv'\n",
    "\n",
    "        #skiprows=4 to remove unnecessary title texts\n",
    "        #usecols=4 to read only the Global Solar Radiation (GSR) values\n",
    "        solar_radiation = pd.read_csv(sfile, skiprows=4, encoding='shift_jisx0213', usecols=[4])\n",
    "        fcast_am = pd.read_csv(wfile, skiprows=4, encoding='shift_jisx0213', usecols=[3])\n",
    "#         fcast_pm = pd.read_csv(wfile, skiprows=4, encoding='shift_jisx0213', usecols=[6])\n",
    "\n",
    "        #convert dataframe to numpy array\n",
    "        solar_radiation = solar_radiation.values\n",
    "\n",
    "        #convert missing data in CSV files to zero\n",
    "        solar_radiation[np.isnan(solar_radiation)] = 0\n",
    "\n",
    "        #reshape solar_radiation into no_of_daysx24 array\n",
    "        solar_radiation = solar_radiation.reshape(-1,24)\n",
    "        day_radiation = np.sum(solar_radiation,axis=1)\n",
    "        day_radiation_rec = np.append(day_radiation_rec,day_radiation)\n",
    "        \n",
    "        #get forecast data, flatten the array and convert to list\n",
    "        fcast_am = fcast_am.values.flatten().tolist()\n",
    "        fcast_am = [item.replace('\\u3000','') for item in fcast_am] #remove pesky UNICODE character\n",
    "        fcast_rec.extend(fcast_am)\n",
    "        \n",
    "# # Create forecast dictionary using forecast from 06:00 to 18:00\n",
    "# # Map every forecast string to forecast type\n",
    "# counts, bin_edges = np.histogram(day_radiation_rec, bins=no_of_fcast_types);\n",
    "# for forecast, tot_day_radiation in zip(fcast_rec, day_radiation_rec):\n",
    "#     for k in np.arange(1,bin_edges.size):\n",
    "#         if (bin_edges[k-1] < tot_day_radiation < bin_edges[k]):\n",
    "#             fcast_dict[forecast] = k -1\n",
    "            \n",
    "            \n",
    "#Alternate forecast dictionary method without using forecast CSV data\n",
    "daytype_rec = []\n",
    "counts, bin_edges = np.histogram(day_radiation_rec, bins=no_of_fcast_types);\n",
    "for tot_day_radiation in day_radiation_rec:\n",
    "    for k in np.arange(1,bin_edges.size):\n",
    "        if (bin_edges[k-1] <= tot_day_radiation <= bin_edges[k]):\n",
    "            daytype_rec = np.append(daytype_rec, k-1)\n",
    "\n",
    "\n",
    "# total_fcast = np.append(total_fcast,fcast_am)\n"
   ]
  },
  {
   "cell_type": "code",
   "execution_count": 11,
   "metadata": {},
   "outputs": [
    {
     "data": {
      "text/plain": [
       "(array([ 981., 1491., 1306., 1539., 1412., 1224., 1090., 1000.,  745.,\n",
       "         171.]),\n",
       " array([ 0,  1,  2,  3,  4,  5,  6,  7,  8,  9, 10]),\n",
       " <a list of 10 Patch objects>)"
      ]
     },
     "execution_count": 11,
     "metadata": {},
     "output_type": "execute_result"
    },
    {
     "data": {
      "image/png": "[encoded data removed]",
      "text/plain": [
       "<Figure size 1728x216 with 1 Axes>"
      ]
     },
     "metadata": {},
     "output_type": "display_data"
    }
   ],
   "source": [
    "# day_types = [fcast_dict[x] for x in fcast_rec]\n",
    "# fig = plt.figure(figsize=(24,3))\n",
    "# ax = fig.add_subplot(111)\n",
    "# hist_param = ax.hist(day_types, bins=np.arange(0,10), rwidth=0.9);\n",
    "# ax.set_xticks(hist_param[1]);\n",
    "\n",
    "#For alternate forecast type\n",
    "fig = plt.figure(figsize=(24,3))\n",
    "ax = fig.add_subplot(111)\n",
    "hist_param = ax.hist(daytype_rec, bins=np.arange(0,11), rwidth=0.9);\n",
    "ax.set_xticks(hist_param[1]);\n",
    "hist_param"
   ]
  },
  {
   "cell_type": "code",
   "execution_count": 12,
   "metadata": {},
   "outputs": [
    {
     "data": {
      "text/plain": [
       "(array([ 981., 1491., 1306., 1539., 1412., 1224., 1090., 1000.,  745.,\n",
       "         171.]),\n",
       " array([ 0.   ,  3.129,  6.258,  9.387, 12.516, 15.645, 18.774, 21.903,\n",
       "        25.032, 28.161, 31.29 ]),\n",
       " <a list of 10 Patch objects>)"
      ]
     },
     "execution_count": 12,
     "metadata": {},
     "output_type": "execute_result"
    },
    {
     "data": {
      "image/png": "[encoded data removed]",
      "text/plain": [
       "<Figure size 1728x216 with 1 Axes>"
      ]
     },
     "metadata": {},
     "output_type": "display_data"
    }
   ],
   "source": [
    "fig = plt.figure(figsize=(24,3))\n",
    "ax = fig.add_subplot(111)\n",
    "hist_param = ax.hist(day_radiation_rec, bins=10, rwidth=0.9) #*2*1e6 * (55e-3 * 70e-3) * 0.15 * 1000/(60*60)\n",
    "ax.set_xticks(hist_param[1]);\n",
    "hist_param"
   ]
  },
  {
   "cell_type": "code",
   "execution_count": null,
   "metadata": {},
   "outputs": [],
   "source": [
    "fcast_dict"
   ]
  },
  {
   "cell_type": "code",
   "execution_count": null,
   "metadata": {},
   "outputs": [],
   "source": [
    "forecast, counts = np.unique(total_fcast, return_counts=True)\n",
    "# forecast = [item.replace('\\u3000','') for item in forecast] #remove pesky UNICODE character\n",
    "# forecast = [item.split('、',1)[0] for item in forecast] #remove data after Japanese commas"
   ]
  },
  {
   "cell_type": "code",
   "execution_count": null,
   "metadata": {},
   "outputs": [],
   "source": [
    "unique_ds = unique[np.argsort(-counts)]\n",
    "sorted_array = np.sort(counts)\n",
    "counts_ds = sorted_array[::-1]"
   ]
  }
 ],
 "metadata": {
  "kernelspec": {
   "display_name": "Python 3",
   "language": "python",
   "name": "python3"
  },
  "language_info": {
   "codemirror_mode": {
    "name": "ipython",
    "version": 3
   },
   "file_extension": ".py",
   "mimetype": "text/x-python",
   "name": "python",
   "nbconvert_exporter": "python",
   "pygments_lexer": "ipython3",
   "version": "3.6.3"
  }
 },
 "nbformat": 4,
 "nbformat_minor": 2
}
